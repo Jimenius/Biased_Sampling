{
 "cells": [
  {
   "cell_type": "code",
   "execution_count": 45,
   "metadata": {},
   "outputs": [],
   "source": [
    "import random\n",
    "import numpy as np\n",
    "import matplotlib.pyplot as plt"
   ]
  },
  {
   "cell_type": "code",
   "execution_count": 7,
   "metadata": {},
   "outputs": [],
   "source": [
    "StreamSize = 100000\n",
    "ReservoirSize = 1000\n",
    "lamda = 1e-5"
   ]
  },
  {
   "cell_type": "code",
   "execution_count": 32,
   "metadata": {},
   "outputs": [],
   "source": [
    "r1 = [None] * ReservoirSize\n",
    "for i in range(ReservoirSize):\n",
    "    r1[i] = i\n",
    "for i in range(ReservoirSize, StreamSize):\n",
    "    p = float(ReservoirSize) / (i + 1)\n",
    "    if p > random.random():\n",
    "        index = random.randint(0, ReservoirSize - 1)\n",
    "        r1[index] = i"
   ]
  },
  {
   "cell_type": "code",
   "execution_count": 35,
   "metadata": {},
   "outputs": [],
   "source": [
    "plt.figure(figsize = [6, 6])\n",
    "plt.plot(r1, 'bo')\n",
    "plt.title('Unbiased Data Distribution')\n",
    "plt.xlabel('Reservoir Position')\n",
    "plt.ylabel('Data Timestamp')\n",
    "plt.savefig('/Users/lmh/Downloads/scatter.png')"
   ]
  },
  {
   "cell_type": "code",
   "execution_count": 44,
   "metadata": {},
   "outputs": [],
   "source": [
    "r1.sort()\n",
    "plt.figure(figsize = [6, 6])\n",
    "plt.plot(r1, 'bo')\n",
    "plt.title('Unbiased Data Distribution')\n",
    "plt.xlabel('Reservoir Position')\n",
    "plt.ylabel('Data Timestamp')\n",
    "plt.show()"
   ]
  },
  {
   "cell_type": "code",
   "execution_count": 40,
   "metadata": {},
   "outputs": [],
   "source": [
    "n = round(1 / lamda)\n",
    "r2 = []\n",
    "for i in range(StreamSize):\n",
    "    l = len(r2)\n",
    "    p = l / n\n",
    "    if p > random.random():\n",
    "        index = random.randint(0, l - 1)\n",
    "        r2[index] = i\n",
    "    else:\n",
    "        r2.append(i)\n",
    "r2.sort()"
   ]
  },
  {
   "cell_type": "code",
   "execution_count": 48,
   "metadata": {},
   "outputs": [],
   "source": [
    "plt.figure(figsize = [6, 6])\n",
    "plt.plot(r2, 'ro')\n",
    "plt.title('Biased Data Distribution')\n",
    "plt.xlabel('Reservoir Position')\n",
    "plt.ylabel('Data Timestamp')\n",
    "plt.show()"
   ]
  },
  {
   "cell_type": "code",
   "execution_count": 84,
   "metadata": {},
   "outputs": [],
   "source": [
    "p_in = ReservoirSize * lamda\n",
    "r3 = []\n",
    "l3_record = [0] * 10000\n",
    "for i in range(StreamSize):\n",
    "    p_base = random.random()\n",
    "    l = len(r3)\n",
    "    if i < 10000:\n",
    "        l3_record[i] = l / float(ReservoirSize)\n",
    "    if p_in > p_base:\n",
    "        p = l / ReservoirSize\n",
    "        if p > p_base:\n",
    "            index = random.randint(0, l - 1)\n",
    "            r3[index] = i\n",
    "        else:\n",
    "            r3.append(i)\n",
    "r3.sort()"
   ]
  },
  {
   "cell_type": "code",
   "execution_count": 55,
   "metadata": {},
   "outputs": [
    {
     "data": {
      "image/png": "[encoded data removed]",
      "text/plain": [
       "<matplotlib.figure.Figure at 0x116af3750>"
      ]
     },
     "metadata": {},
     "output_type": "display_data"
    }
   ],
   "source": [
    "plt.figure(figsize = [6, 6])\n",
    "plt.plot(r3, 'go')\n",
    "plt.title('Fixed Reservoir size Biased Data Distribution')\n",
    "plt.xlabel('Reservoir Position')\n",
    "plt.ylabel('Data Timestamp')\n",
    "plt.show()"
   ]
  },
  {
   "cell_type": "code",
   "execution_count": 85,
   "metadata": {},
   "outputs": [],
   "source": [
    "p_in = 1\n",
    "q = 1.0 / ReservoirSize\n",
    "r4 = []\n",
    "l4_record = [0] * 10000\n",
    "for i in range(StreamSize):\n",
    "    l = len(r4)\n",
    "    if i < 10000:\n",
    "        l4_record[i] = l / float(ReservoirSize)\n",
    "    if l == ReservoirSize:\n",
    "        p_in *= (1 - q)\n",
    "        index = random.randint(0, l - 1)\n",
    "        del r4[index]\n",
    "        l -= 1\n",
    "    if p_in > random.random():\n",
    "        p = l / ReservoirSize\n",
    "        if p > random.random():\n",
    "            index = random.randint(0, l - 1)\n",
    "            r4[index] = i\n",
    "        else:\n",
    "            r4.append(i)\n",
    "r4.sort()"
   ]
  },
  {
   "cell_type": "code",
   "execution_count": 75,
   "metadata": {},
   "outputs": [],
   "source": [
    "plt.figure(figsize = [6, 8])\n",
    "axis = np.arange(ReservoirSize)\n",
    "plt.plot(axis, r1, 'b', r4, 'y')\n",
    "plt.title('Variable Reservoir Sampling VS. Unbiased')\n",
    "plt.xlabel('Reservoir Position')\n",
    "plt.ylabel('Data Timestamp')\n",
    "plt.legend(['Unbiased', 'Biased'])\n",
    "plt.show()"
   ]
  },
  {
   "cell_type": "code",
   "execution_count": 87,
   "metadata": {},
   "outputs": [],
   "source": [
    "plt.figure(figsize = [6, 6])\n",
    "plt.plot(l3_record, '--', l4_record, '-')\n",
    "plt.xlabel('PROGRESSION OF STREAM (POINTS)')\n",
    "plt.ylabel('FRACTIONAL RESERVOIR UTILIZATION')\n",
    "plt.legend(['FIXED RESERVOIR SAMPLING', 'VARIABLE RESERVOIR SAMPLING'])\n",
    "plt.show()"
   ]
  },
  {
   "cell_type": "code",
   "execution_count": null,
   "metadata": {},
   "outputs": [],
   "source": []
  }
 ],
 "metadata": {
  "kernelspec": {
   "display_name": "Python 2",
   "language": "python",
   "name": "python2"
  },
  "language_info": {
   "codemirror_mode": {
    "name": "ipython",
    "version": 2
   },
   "file_extension": ".py",
   "mimetype": "text/x-python",
   "name": "python",
   "nbconvert_exporter": "python",
   "pygments_lexer": "ipython2",
   "version": "2.7.14"
  }
 },
 "nbformat": 4,
 "nbformat_minor": 2
}
