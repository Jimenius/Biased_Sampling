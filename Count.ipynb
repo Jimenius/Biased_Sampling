{
 "cells": [
  {
   "cell_type": "code",
   "execution_count": 1,
   "metadata": {},
   "outputs": [],
   "source": [
    "from pyspark.sql import SparkSession\n",
    "import numpy as np\n",
    "import random\n",
    "import matplotlib.pyplot as plt\n",
    "spark = SparkSession.builder.getOrCreate()\n",
    "sc = spark.sparkContext"
   ]
  },
  {
   "cell_type": "code",
   "execution_count": 2,
   "metadata": {},
   "outputs": [],
   "source": [
    "rdd = sc.textFile('kddcup.data_10_percent_corrected')\n",
    "record_num = rdd.count()"
   ]
  },
  {
   "cell_type": "code",
   "execution_count": 3,
   "metadata": {},
   "outputs": [],
   "source": [
    "label_rdd = rdd.map(lambda x: x.split(',')).map(lambda x: x[-1][:-1])\n",
    "label_set = label_rdd.distinct().collect()\n",
    "label_num = len(label_set)\n",
    "labels = label_rdd.collect()\n",
    "random.shuffle(labels)"
   ]
  },
  {
   "cell_type": "code",
   "execution_count": 4,
   "metadata": {},
   "outputs": [],
   "source": [
    "ReservoirSize = 1000.0\n",
    "p_in = 1\n",
    "q = 1 / ReservoirSize\n",
    "r_u = []\n",
    "r_b = []\n",
    "for i in range(record_num):\n",
    "    \n",
    "    l = len(r_b)\n",
    "    p_base = random.random()\n",
    "    if l == ReservoirSize:\n",
    "        p_in *= (1 - q)\n",
    "        index = random.randint(0, l - 1)\n",
    "        del r_b[index]\n",
    "        l -= 1\n",
    "    if p_in > random.random():\n",
    "        p = l / ReservoirSize\n",
    "        if p > p_base:\n",
    "            index = random.randint(0, l - 1)\n",
    "            r_b[index] = i\n",
    "        else:\n",
    "            r_b.append(i)\n",
    "    \n",
    "    l = len(r_u)\n",
    "    if l < ReservoirSize:\n",
    "        r_u.append(i)\n",
    "    else:\n",
    "        p = ReservoirSize / (i + 1)\n",
    "        if p > p_base:\n",
    "            index = random.randint(0, l - 1)\n",
    "            r_u[index] = i"
   ]
  },
  {
   "cell_type": "code",
   "execution_count": 5,
   "metadata": {},
   "outputs": [],
   "source": [
    "total_count = {}\n",
    "unbiased_count = {}\n",
    "biased_count = {}\n",
    "\n",
    "for i in range(label_num):\n",
    "    total_count[label_set[i]] = 0.0\n",
    "    unbiased_count[label_set[i]] = 0.0\n",
    "    biased_count[label_set[i]] = 0.0\n",
    "\n",
    "r_b_count = 0\n",
    "r_u_count = 0\n",
    "step = 10000\n",
    "biased_error = []\n",
    "unbiased_error = []\n",
    "for i in range(record_num - 1, record_num - 100001, -1):\n",
    "    total_count[labels[i]] += 1\n",
    "    if i in r_b:\n",
    "        biased_count[labels[i]] += 1\n",
    "        r_b_count += 1\n",
    "    if i in r_u:\n",
    "        unbiased_count[labels[i]] += 1\n",
    "        r_u_count += 1\n",
    "    if (record_num - i) % step == 0:\n",
    "        be = 0\n",
    "        ue = 0\n",
    "        for j in range(label_num):\n",
    "            be += abs(biased_count[labels[j]] / r_b_count - total_count[labels[j]] / (record_num - i))\n",
    "            ue += abs(unbiased_count[labels[j]] / r_u_count - total_count[labels[j]] / (record_num - i))\n",
    "        biased_error.append(be / label_num)\n",
    "        unbiased_error.append(ue / label_num)"
   ]
  },
  {
   "cell_type": "code",
   "execution_count": 6,
   "metadata": {},
   "outputs": [
    {
     "data": {
      "text/plain": [
       "<matplotlib.legend.Legend at 0x110a5a350>"
      ]
     },
     "execution_count": 6,
     "metadata": {},
     "output_type": "execute_result"
    }
   ],
   "source": [
    "axis = np.arange(1, 11)\n",
    "plt.plot(axis, biased_error, axis, unbiased_error)\n",
    "plt.title('Count Query Estimation')\n",
    "plt.xlabel('USER SPECIFIED HORIZON (* 10000)')\n",
    "plt.ylabel('ABSOLUTE ERROR')\n",
    "plt.legend(['Biased Error', 'Unbiased Error'])\n",
    "plt.show()"
   ]
  },
  {
   "cell_type": "code",
   "execution_count": null,
   "metadata": {},
   "outputs": [],
   "source": []
  }
 ],
 "metadata": {
  "kernelspec": {
   "display_name": "Python 2",
   "language": "python",
   "name": "python2"
  },
  "language_info": {
   "codemirror_mode": {
    "name": "ipython",
    "version": 2
   },
   "file_extension": ".py",
   "mimetype": "text/x-python",
   "name": "python",
   "nbconvert_exporter": "python",
   "pygments_lexer": "ipython2",
   "version": "2.7.14"
  }
 },
 "nbformat": 4,
 "nbformat_minor": 2
}
